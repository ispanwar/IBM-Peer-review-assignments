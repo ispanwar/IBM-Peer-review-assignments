{
 "cells": [
  {
   "cell_type": "markdown",
   "id": "6a937f07-d5ab-4181-a54c-f248e8aa4f93",
   "metadata": {},
   "source": [
    "# Data Science Tools and Ecosystem"
   ]
  },
  {
   "cell_type": "markdown",
   "id": "22e13b62-ac6e-4241-8a87-39271da48f53",
   "metadata": {},
   "source": [
    "In this notebook, Data Science Tools and Ecosystem are summarized."
   ]
  },
  {
   "cell_type": "markdown",
   "id": "c7a2b227-8c5f-4e94-b2c3-110f4929612a",
   "metadata": {},
   "source": [
    "**Objectives:**\n",
    "\n",
    "- List popular languages for data science\n",
    "\n",
    "- List commonly used libraries used by data scientists\n",
    "\n",
    "- Table for data science tools\n",
    "\n",
    "- Simple arithmetic expressions\n",
    "\n",
    "- Code that convert minutes to  hours"
   ]
  },
  {
   "cell_type": "markdown",
   "id": "03c1f38b-0a2f-443d-a7fb-8fa685d4c47d",
   "metadata": {},
   "source": [
    "Some of the popular languages that Data Scientists use are:\n",
    "1. Python\n",
    "2. R\n",
    "3. SQL\n",
    "4. Java\n",
    "5. C++\n",
    "6. Julia\n",
    "7. Ruby\n",
    "8. JavaScript"
   ]
  },
  {
   "cell_type": "markdown",
   "id": "2b422094-e768-47dd-b8ed-6ce213ca06cc",
   "metadata": {},
   "source": [
    "Some of the commonly used libraries used by Data Scientists include: \n",
    "1. Pandas\n",
    "2. Matplotlib\n",
    "3. Numpy\n",
    "4. Scikit learn\n",
    "5. Seaborn"
   ]
  },
  {
   "cell_type": "markdown",
   "id": "cc5c74d0-a620-4d79-ab12-b27ec9e1575b",
   "metadata": {},
   "source": [
    "|Data Science Tools|\n",
    "|------------------|\n",
    "|Apache Spark|\n",
    "|Jupyter Notebook|\n",
    "|Tableau|\n",
    "|Apache Hadoop|\n",
    "\n"
   ]
  },
  {
   "cell_type": "markdown",
   "id": "ca841e26-8e5c-4b62-bbd7-99be42960683",
   "metadata": {},
   "source": [
    "### Below are a few examples of evaluating arithmetic expressions in Python\n",
    "- (3+4)*8\n",
    "\n",
    "- 7-9*6+11\n",
    "\n",
    "- 625/25 - 11*11 + 69\n"
   ]
  },
  {
   "cell_type": "code",
   "execution_count": 1,
   "id": "18501e95-b0d3-45d6-9a13-110f7716e85a",
   "metadata": {},
   "outputs": [
    {
     "data": {
      "text/plain": [
       "17"
      ]
     },
     "execution_count": 1,
     "metadata": {},
     "output_type": "execute_result"
    }
   ],
   "source": [
    "# This a simple arithmetic expression to mutiply then add integers\n",
    "(3*4)+5"
   ]
  },
  {
   "cell_type": "code",
   "execution_count": 2,
   "id": "c796aa7b-acda-4aad-873d-a83e69c32df9",
   "metadata": {},
   "outputs": [
    {
     "data": {
      "text/plain": [
       "33.333333333333336"
      ]
     },
     "execution_count": 2,
     "metadata": {},
     "output_type": "execute_result"
    }
   ],
   "source": [
    "# This will convert 200 minutes to hours by diving by 60\n",
    "200/6"
   ]
  },
  {
   "cell_type": "markdown",
   "id": "c4395983-86e0-43b3-8fa0-2738860a32be",
   "metadata": {},
   "source": [
    "## Author\n",
    "Ishatva Singh Panwar"
   ]
  },
  {
   "cell_type": "code",
   "execution_count": null,
   "id": "79a3dffa-0999-4806-9b71-bd4ab8b736c9",
   "metadata": {},
   "outputs": [],
   "source": []
  },
  {
   "cell_type": "code",
   "execution_count": null,
   "id": "84a0afe2-64f9-429d-a791-83d22223ce3f",
   "metadata": {},
   "outputs": [],
   "source": []
  },
  {
   "cell_type": "code",
   "execution_count": null,
   "id": "165372f5-aadc-46d0-aabf-2a3b1cba4ad8",
   "metadata": {},
   "outputs": [],
   "source": []
  },
  {
   "cell_type": "code",
   "execution_count": null,
   "id": "74af8666-3fd6-4990-9298-07a6915a7324",
   "metadata": {},
   "outputs": [],
   "source": []
  },
  {
   "cell_type": "code",
   "execution_count": null,
   "id": "a8222df3-0b29-48a0-8c87-087dacacddce",
   "metadata": {},
   "outputs": [],
   "source": []
  }
 ],
 "metadata": {
  "kernelspec": {
   "display_name": "Python 3 (ipykernel)",
   "language": "python",
   "name": "python3"
  },
  "language_info": {
   "codemirror_mode": {
    "name": "ipython",
    "version": 3
   },
   "file_extension": ".py",
   "mimetype": "text/x-python",
   "name": "python",
   "nbconvert_exporter": "python",
   "pygments_lexer": "ipython3",
   "version": "3.11.5"
  }
 },
 "nbformat": 4,
 "nbformat_minor": 5
}
